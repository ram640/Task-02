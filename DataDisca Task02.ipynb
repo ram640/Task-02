{
 "cells": [
  {
   "cell_type": "markdown",
   "metadata": {},
   "source": [
    "### Import packages"
   ]
  },
  {
   "cell_type": "code",
   "execution_count": 79,
   "metadata": {},
   "outputs": [],
   "source": [
    "import pandas as pd\n",
    "import more_itertools as mit\n",
    "import oxford as ox\n",
    "import pprint\n",
    "from oxford import Word\n",
    "from nltk.stem.wordnet import WordNetLemmatizer\n",
    "from pattern.en import lemma"
   ]
  },
  {
   "cell_type": "markdown",
   "metadata": {},
   "source": [
    "### Data cleaning and Data Preparation"
   ]
  },
  {
   "cell_type": "code",
   "execution_count": 80,
   "metadata": {
    "scrolled": false
   },
   "outputs": [],
   "source": [
    "df_text = pd.read_csv(\"C://Users//acer//OneDrive//DataDisca//21_10_2021 Task 02//words.txt\",\n",
    "                      header = None,\n",
    "                      sep='\\n'\n",
    "                     )\n",
    "#print(df_text)"
   ]
  },
  {
   "cell_type": "code",
   "execution_count": 81,
   "metadata": {
    "scrolled": true
   },
   "outputs": [],
   "source": [
    "for i in df_text[0]:\n",
    "    line = i\n",
    "    #print(line)\n",
    "    test = line.lower().split()\n",
    "    test2 = sorted([j for j in test if j.isalpha() ])\n",
    "    #print(test2)"
   ]
  },
  {
   "cell_type": "code",
   "execution_count": 82,
   "metadata": {},
   "outputs": [],
   "source": [
    "df_w = set(mit.collapse(test2))"
   ]
  },
  {
   "cell_type": "code",
   "execution_count": 83,
   "metadata": {},
   "outputs": [],
   "source": [
    "df_w1 = []\n",
    "for i in df_w:\n",
    "       df_w1.append(lemma(i))"
   ]
  },
  {
   "cell_type": "code",
   "execution_count": 84,
   "metadata": {},
   "outputs": [],
   "source": [
    "df_w = sorted(df_w1)\n",
    "df_w = set(mit.collapse(df_w))\n",
    "df_w = sorted(list(df_w))"
   ]
  },
  {
   "cell_type": "code",
   "execution_count": 85,
   "metadata": {},
   "outputs": [],
   "source": [
    "df = pd.DataFrame(df_w, columns=[\"Word\"])"
   ]
  },
  {
   "cell_type": "code",
   "execution_count": 86,
   "metadata": {},
   "outputs": [],
   "source": [
    "pron_uk = []\n",
    "pron_us = []\n",
    "for w in range(0,10):\n",
    "    Word.get(df.iat[w, 0])\n",
    "    s = Word.pronunciations( )\n",
    "    li_uk = sorted(s[0].values())\n",
    "    li_us = sorted(s[1].values())\n",
    "    uk = li_uk[0]\n",
    "    us = li_us[0]\n",
    "    pron_uk.append(uk)\n",
    "    pron_us.append(us)"
   ]
  },
  {
   "cell_type": "code",
   "execution_count": 87,
   "metadata": {},
   "outputs": [],
   "source": [
    "dfUK = pd.DataFrame(pron_uk, columns=[\"UK Pron\"])"
   ]
  },
  {
   "cell_type": "code",
   "execution_count": 88,
   "metadata": {},
   "outputs": [],
   "source": [
    "dfUS = pd.DataFrame(pron_uk, columns=[\"US Pron\"])"
   ]
  },
  {
   "cell_type": "code",
   "execution_count": 89,
   "metadata": {},
   "outputs": [],
   "source": [
    "df1 = dfUK.merge(dfUS, left_on='UK Pron', right_on='US Pron')"
   ]
  },
  {
   "cell_type": "code",
   "execution_count": 90,
   "metadata": {},
   "outputs": [
    {
     "data": {
      "text/html": [
       "<div>\n",
       "<style scoped>\n",
       "    .dataframe tbody tr th:only-of-type {\n",
       "        vertical-align: middle;\n",
       "    }\n",
       "\n",
       "    .dataframe tbody tr th {\n",
       "        vertical-align: top;\n",
       "    }\n",
       "\n",
       "    .dataframe thead th {\n",
       "        text-align: right;\n",
       "    }\n",
       "</style>\n",
       "<table border=\"1\" class=\"dataframe\">\n",
       "  <thead>\n",
       "    <tr style=\"text-align: right;\">\n",
       "      <th></th>\n",
       "      <th>Word</th>\n",
       "      <th>UK Pron</th>\n",
       "      <th>US Pron</th>\n",
       "    </tr>\n",
       "  </thead>\n",
       "  <tbody>\n",
       "    <tr>\n",
       "      <th>0</th>\n",
       "      <td>a</td>\n",
       "      <td>/ə/</td>\n",
       "      <td>/ə/</td>\n",
       "    </tr>\n",
       "    <tr>\n",
       "      <th>1</th>\n",
       "      <td>abduct</td>\n",
       "      <td>/æbˈdʌkt/</td>\n",
       "      <td>/æbˈdʌkt/</td>\n",
       "    </tr>\n",
       "    <tr>\n",
       "      <th>2</th>\n",
       "      <td>able</td>\n",
       "      <td>/ˈeɪbl/</td>\n",
       "      <td>/ˈeɪbl/</td>\n",
       "    </tr>\n",
       "    <tr>\n",
       "      <th>3</th>\n",
       "      <td>about</td>\n",
       "      <td>/əˈbaʊt/</td>\n",
       "      <td>/əˈbaʊt/</td>\n",
       "    </tr>\n",
       "    <tr>\n",
       "      <th>4</th>\n",
       "      <td>absolutely</td>\n",
       "      <td>/ˈæbsəluːtli/</td>\n",
       "      <td>/ˈæbsəluːtli/</td>\n",
       "    </tr>\n",
       "    <tr>\n",
       "      <th>5</th>\n",
       "      <td>access</td>\n",
       "      <td>/ˈækses/</td>\n",
       "      <td>/ˈækses/</td>\n",
       "    </tr>\n",
       "    <tr>\n",
       "      <th>6</th>\n",
       "      <td>accuse</td>\n",
       "      <td>/əˈkjuːz/</td>\n",
       "      <td>/əˈkjuːz/</td>\n",
       "    </tr>\n",
       "    <tr>\n",
       "      <th>7</th>\n",
       "      <td>act</td>\n",
       "      <td>/ækt/</td>\n",
       "      <td>/ækt/</td>\n",
       "    </tr>\n",
       "    <tr>\n",
       "      <th>8</th>\n",
       "      <td>actually</td>\n",
       "      <td>/ˈæktʃuəli/</td>\n",
       "      <td>/ˈæktʃuəli/</td>\n",
       "    </tr>\n",
       "    <tr>\n",
       "      <th>9</th>\n",
       "      <td>addition</td>\n",
       "      <td>/əˈdɪʃn/</td>\n",
       "      <td>/əˈdɪʃn/</td>\n",
       "    </tr>\n",
       "  </tbody>\n",
       "</table>\n",
       "</div>"
      ],
      "text/plain": [
       "         Word        UK Pron        US Pron\n",
       "0           a            /ə/            /ə/\n",
       "1      abduct      /æbˈdʌkt/      /æbˈdʌkt/\n",
       "2        able        /ˈeɪbl/        /ˈeɪbl/\n",
       "3       about       /əˈbaʊt/       /əˈbaʊt/\n",
       "4  absolutely  /ˈæbsəluːtli/  /ˈæbsəluːtli/\n",
       "5      access       /ˈækses/       /ˈækses/\n",
       "6      accuse      /əˈkjuːz/      /əˈkjuːz/\n",
       "7         act          /ækt/          /ækt/\n",
       "8    actually    /ˈæktʃuəli/    /ˈæktʃuəli/\n",
       "9    addition       /əˈdɪʃn/       /əˈdɪʃn/"
      ]
     },
     "execution_count": 90,
     "metadata": {},
     "output_type": "execute_result"
    }
   ],
   "source": [
    "pd.concat([df[:10], df1], axis=1)"
   ]
  },
  {
   "cell_type": "code",
   "execution_count": null,
   "metadata": {},
   "outputs": [],
   "source": []
  }
 ],
 "metadata": {
  "kernelspec": {
   "display_name": "Python 3",
   "language": "python",
   "name": "python3"
  },
  "language_info": {
   "codemirror_mode": {
    "name": "ipython",
    "version": 3
   },
   "file_extension": ".py",
   "mimetype": "text/x-python",
   "name": "python",
   "nbconvert_exporter": "python",
   "pygments_lexer": "ipython3",
   "version": "3.8.5"
  }
 },
 "nbformat": 4,
 "nbformat_minor": 4
}
